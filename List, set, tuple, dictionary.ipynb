{
 "cells": [
  {
   "cell_type": "markdown",
   "id": "911a367f-eb7b-4c90-accd-665e9039fd96",
   "metadata": {},
   "source": [
    "### List"
   ]
  },
  {
   "cell_type": "code",
   "execution_count": 20,
   "id": "a4b5fe89-9b0c-4827-99b2-510bc6bbac5d",
   "metadata": {},
   "outputs": [],
   "source": [
    "list=[10,20,30]"
   ]
  },
  {
   "cell_type": "code",
   "execution_count": 21,
   "id": "e7de825b-db0a-4586-a4e1-437bcd2934e8",
   "metadata": {},
   "outputs": [
    {
     "name": "stdout",
     "output_type": "stream",
     "text": [
      "3\n"
     ]
    }
   ],
   "source": [
    "print(len(list))"
   ]
  },
  {
   "cell_type": "code",
   "execution_count": 22,
   "id": "4c3c44fd-5bcf-4781-b828-827a8c545570",
   "metadata": {},
   "outputs": [
    {
     "name": "stdout",
     "output_type": "stream",
     "text": [
      "[10, 20, 30, 40]\n"
     ]
    }
   ],
   "source": [
    "list.append(40)\n",
    "print(list)"
   ]
  },
  {
   "cell_type": "code",
   "execution_count": 23,
   "id": "98125f70-cce7-49fb-a757-5d399e4237d0",
   "metadata": {},
   "outputs": [
    {
     "name": "stdout",
     "output_type": "stream",
     "text": [
      "[10, 20, 5, 30, 40]\n"
     ]
    }
   ],
   "source": [
    "list.insert(2,5)\n",
    "print(list)"
   ]
  },
  {
   "cell_type": "code",
   "execution_count": 24,
   "id": "73b9de59-afcd-496b-9456-5582d9bea376",
   "metadata": {},
   "outputs": [],
   "source": [
    "list.remove(5) # only the first occurence"
   ]
  },
  {
   "cell_type": "code",
   "execution_count": 25,
   "id": "189022a8-f328-49b4-878d-44438b59d09f",
   "metadata": {},
   "outputs": [
    {
     "name": "stdout",
     "output_type": "stream",
     "text": [
      "[10, 20, 30, 40, 50, 60, 70]\n"
     ]
    }
   ],
   "source": [
    "list2=[50,60,70]\n",
    "list.extend(list2)\n",
    "print(list)"
   ]
  },
  {
   "cell_type": "code",
   "execution_count": 26,
   "id": "ad11a58b-9237-4808-842e-3de9aa084bcb",
   "metadata": {},
   "outputs": [
    {
     "name": "stdout",
     "output_type": "stream",
     "text": [
      "[10, 20, 30, 40, 50, 60, 70, [50, 60, 70]]\n"
     ]
    }
   ],
   "source": [
    "list.append(list2)\n",
    "print(list)"
   ]
  },
  {
   "cell_type": "code",
   "execution_count": 27,
   "id": "399c326b-7d5b-460e-9606-edfa1c251c9c",
   "metadata": {},
   "outputs": [
    {
     "name": "stdout",
     "output_type": "stream",
     "text": [
      "[10, 20, 30, 40, 50, 60, 70]\n"
     ]
    }
   ],
   "source": [
    "del list[-1]\n",
    "print(list)"
   ]
  },
  {
   "cell_type": "code",
   "execution_count": 28,
   "id": "7248026e-a69f-46a3-abd7-a982b1dc84ea",
   "metadata": {},
   "outputs": [
    {
     "name": "stdout",
     "output_type": "stream",
     "text": [
      "[10, 20, 30, 40, 50, 60]\n"
     ]
    }
   ],
   "source": [
    "list.pop() # index can also  be entered\n",
    "print(list)"
   ]
  },
  {
   "cell_type": "code",
   "execution_count": 29,
   "id": "17abe135-8fb9-49a9-a408-e66ba5c73716",
   "metadata": {},
   "outputs": [
    {
     "name": "stdout",
     "output_type": "stream",
     "text": [
      "[60, 50, 40, 30, 20, 10]\n"
     ]
    }
   ],
   "source": [
    "list.reverse()\n",
    "print(list)"
   ]
  },
  {
   "cell_type": "code",
   "execution_count": 30,
   "id": "25c110a8-41e2-42a2-9cc6-afc6e51b60ce",
   "metadata": {},
   "outputs": [
    {
     "name": "stdout",
     "output_type": "stream",
     "text": [
      "[10, 20, 30, 40, 50, 60]\n"
     ]
    }
   ],
   "source": [
    "list.sort()\n",
    "print(list)"
   ]
  },
  {
   "cell_type": "code",
   "execution_count": 31,
   "id": "6aa787f3-e9bf-4e3e-ab77-890b37eb3c8f",
   "metadata": {},
   "outputs": [
    {
     "name": "stdout",
     "output_type": "stream",
     "text": [
      "[60, 50, 40, 30, 20, 10]\n"
     ]
    }
   ],
   "source": [
    "list2= sorted(list,reverse=True)\n",
    "print(list2)"
   ]
  },
  {
   "cell_type": "code",
   "execution_count": 32,
   "id": "8606f42c-8f94-4482-b204-2bc2114680a8",
   "metadata": {},
   "outputs": [
    {
     "name": "stdout",
     "output_type": "stream",
     "text": [
      "[10, 20, 30, 40, 50, 60, 60, 50, 40, 30, 20, 10]\n"
     ]
    }
   ],
   "source": [
    "newList= list + list2 # same as extend\n",
    "print(newList)"
   ]
  },
  {
   "cell_type": "markdown",
   "id": "a9075546-7c9e-45de-a243-e946ddfe3835",
   "metadata": {},
   "source": [
    "## List"
   ]
  },
  {
   "cell_type": "code",
   "execution_count": 37,
   "id": "ae3ee792-c42f-4111-bae9-a2dc6e338a40",
   "metadata": {},
   "outputs": [
    {
     "name": "stdout",
     "output_type": "stream",
     "text": [
      "<class 'tuple'>\n"
     ]
    }
   ],
   "source": [
    "tupl= (1,) # use comma if single element\n",
    "print(type (tupl))"
   ]
  },
  {
   "cell_type": "code",
   "execution_count": 45,
   "id": "602c895b-6de5-4b27-b74b-9852dff51c00",
   "metadata": {},
   "outputs": [
    {
     "name": "stdout",
     "output_type": "stream",
     "text": [
      "('something', 'something', 'something', 'something')\n"
     ]
    }
   ],
   "source": [
    "tupl=(('something',) *4)\n",
    "print(tupl)"
   ]
  },
  {
   "cell_type": "code",
   "execution_count": 41,
   "id": "f88827b1-9d44-442a-acbf-0f1331f6180e",
   "metadata": {},
   "outputs": [
    {
     "data": {
      "text/plain": [
       "4"
      ]
     },
     "execution_count": 41,
     "metadata": {},
     "output_type": "execute_result"
    }
   ],
   "source": [
    "tupl.count('something')"
   ]
  },
  {
   "cell_type": "code",
   "execution_count": 46,
   "id": "6acd54c8-ff7a-4d8f-a706-17990d2eb3db",
   "metadata": {},
   "outputs": [
    {
     "data": {
      "text/plain": [
       "0"
      ]
     },
     "execution_count": 46,
     "metadata": {},
     "output_type": "execute_result"
    }
   ],
   "source": [
    "tupl.index('something')"
   ]
  },
  {
   "cell_type": "code",
   "execution_count": 49,
   "id": "d6da170a-afca-47e7-a7c5-c702f1a68bff",
   "metadata": {},
   "outputs": [
    {
     "name": "stdout",
     "output_type": "stream",
     "text": [
      "3\n",
      "23\n",
      "36\n"
     ]
    }
   ],
   "source": [
    "tupl=(3,4,6,23)\n",
    "print(min(tupl))\n",
    "print(max(tupl))\n",
    "print(sum(tupl))"
   ]
  },
  {
   "cell_type": "markdown",
   "id": "7feb06e9-0665-4e66-85cc-90e54915716d",
   "metadata": {},
   "source": [
    "## Sets"
   ]
  },
  {
   "cell_type": "code",
   "execution_count": 51,
   "id": "284bae2d-6b85-4a88-9745-00002995111b",
   "metadata": {},
   "outputs": [
    {
     "name": "stdout",
     "output_type": "stream",
     "text": [
      "{40, 10, 50, 20, 60, 30}\n"
     ]
    }
   ],
   "source": [
    "s=set(list)\n",
    "print(s)"
   ]
  },
  {
   "cell_type": "code",
   "execution_count": 52,
   "id": "1bf556e3-7e44-47bc-8eac-b7eeaae9645f",
   "metadata": {},
   "outputs": [
    {
     "name": "stdout",
     "output_type": "stream",
     "text": [
      "{2, 40, 10, 50, 20, 60, 30}\n"
     ]
    }
   ],
   "source": [
    "s.add(2)\n",
    "print(s)"
   ]
  },
  {
   "cell_type": "code",
   "execution_count": 57,
   "id": "4c030ddd-4fbb-482f-a725-5b1e4fabb83f",
   "metadata": {},
   "outputs": [
    {
     "name": "stdout",
     "output_type": "stream",
     "text": [
      "{1, 2, 3, 40, 10, 50, 20, 60, 30}\n"
     ]
    }
   ],
   "source": [
    "s.update([1,2,3])\n",
    "print(s)"
   ]
  },
  {
   "cell_type": "code",
   "execution_count": 58,
   "id": "ce52c2e9-0487-452c-ba95-0b04506cfbc9",
   "metadata": {},
   "outputs": [
    {
     "name": "stdout",
     "output_type": "stream",
     "text": [
      "{2, 3, 40, 10, 50, 20, 60, 30}\n"
     ]
    }
   ],
   "source": [
    "s.remove(1)\n",
    "s.discard(1) # does not throw error\n",
    "print(s)"
   ]
  },
  {
   "cell_type": "code",
   "execution_count": 59,
   "id": "6f1861ae-239b-42bc-9455-a513ffd6bd43",
   "metadata": {},
   "outputs": [
    {
     "name": "stdout",
     "output_type": "stream",
     "text": [
      "{3, 40, 10, 50, 20, 60, 30}\n",
      "set()\n"
     ]
    }
   ],
   "source": [
    "s.pop()\n",
    "print(s)\n",
    "s.clear()\n",
    "print(s)"
   ]
  },
  {
   "cell_type": "markdown",
   "id": "fa7e798c-8392-4f2b-9dd0-563e154bd2ae",
   "metadata": {},
   "source": [
    "Intersection\n",
    "Union\n",
    "Difference\n",
    "Symtric difference"
   ]
  },
  {
   "cell_type": "code",
   "execution_count": 60,
   "id": "794255dc-f9db-4a45-a451-b78cb8053d20",
   "metadata": {},
   "outputs": [],
   "source": [
    "myDict={'key':'value'}"
   ]
  },
  {
   "cell_type": "code",
   "execution_count": 62,
   "id": "bbe97214-7fdd-4f36-b768-de9e2443e855",
   "metadata": {},
   "outputs": [
    {
     "data": {
      "text/plain": [
       "dict_keys(['key'])"
      ]
     },
     "execution_count": 62,
     "metadata": {},
     "output_type": "execute_result"
    }
   ],
   "source": [
    "myDict.keys()"
   ]
  },
  {
   "cell_type": "code",
   "execution_count": 63,
   "id": "47cebcf2-329d-4ee8-b418-f78ba53c3edc",
   "metadata": {},
   "outputs": [
    {
     "data": {
      "text/plain": [
       "dict_values(['value'])"
      ]
     },
     "execution_count": 63,
     "metadata": {},
     "output_type": "execute_result"
    }
   ],
   "source": [
    "myDict.values()"
   ]
  },
  {
   "cell_type": "code",
   "execution_count": 64,
   "id": "286b24c7-b622-4993-879a-c5eefe147c4a",
   "metadata": {},
   "outputs": [
    {
     "data": {
      "text/plain": [
       "dict_items([('key', 'value')])"
      ]
     },
     "execution_count": 64,
     "metadata": {},
     "output_type": "execute_result"
    }
   ],
   "source": [
    "myDict.items()"
   ]
  }
 ],
 "metadata": {
  "kernelspec": {
   "display_name": "Python 3 (ipykernel)",
   "language": "python",
   "name": "python3"
  },
  "language_info": {
   "codemirror_mode": {
    "name": "ipython",
    "version": 3
   },
   "file_extension": ".py",
   "mimetype": "text/x-python",
   "name": "python",
   "nbconvert_exporter": "python",
   "pygments_lexer": "ipython3",
   "version": "3.8.10"
  }
 },
 "nbformat": 4,
 "nbformat_minor": 5
}
