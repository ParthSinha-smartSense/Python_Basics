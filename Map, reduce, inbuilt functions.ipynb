{
 "cells": [
  {
   "cell_type": "markdown",
   "id": "0258ebc6-f86e-4e0c-a150-2ba2b984102f",
   "metadata": {},
   "source": [
    "### In built functions\n",
    "abs()\n",
    "all()\n",
    "dir(something) # returns all the methods and members of something\n",
    "divmod(x,y)\n",
    "enumerate() returns iterator and index\n",
    "filter(function,list)\n",
    "isinstance(var, data type)\n"
   ]
  },
  {
   "cell_type": "markdown",
   "id": "a2db0b38-e79f-454e-a232-78dd18424db7",
   "metadata": {},
   "source": [
    "### Map"
   ]
  },
  {
   "cell_type": "code",
   "execution_count": 2,
   "id": "fd339027-21fd-4f95-8cc8-0aa8bc5fb5d9",
   "metadata": {},
   "outputs": [
    {
     "name": "stdout",
     "output_type": "stream",
     "text": [
      "[1, 4, 9, 16, 25]\n"
     ]
    }
   ],
   "source": [
    "numbers=[1,2,3,4,5]\n",
    "squared=list(map(lambda x: x**2,numbers))\n",
    "print(squared)"
   ]
  },
  {
   "cell_type": "markdown",
   "id": "a532a4da-954b-4c5d-91e0-324a17979f38",
   "metadata": {},
   "source": [
    "### Reduce"
   ]
  },
  {
   "cell_type": "code",
   "execution_count": 5,
   "id": "ec75d2fd-6b16-4eac-9ae0-b766133f5a7e",
   "metadata": {},
   "outputs": [
    {
     "name": "stdout",
     "output_type": "stream",
     "text": [
      "15\n"
     ]
    }
   ],
   "source": [
    "from functools import reduce\n",
    "sum= reduce(lambda x,y:x+y, numbers)\n",
    "print(sum)"
   ]
  }
 ],
 "metadata": {
  "kernelspec": {
   "display_name": "Python 3 (ipykernel)",
   "language": "python",
   "name": "python3"
  },
  "language_info": {
   "codemirror_mode": {
    "name": "ipython",
    "version": 3
   },
   "file_extension": ".py",
   "mimetype": "text/x-python",
   "name": "python",
   "nbconvert_exporter": "python",
   "pygments_lexer": "ipython3",
   "version": "3.8.10"
  }
 },
 "nbformat": 4,
 "nbformat_minor": 5
}
